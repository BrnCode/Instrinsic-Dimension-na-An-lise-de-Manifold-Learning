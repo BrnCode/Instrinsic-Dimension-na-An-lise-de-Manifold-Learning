{
  "nbformat": 4,
  "nbformat_minor": 0,
  "metadata": {
    "colab": {
      "provenance": []
    },
    "kernelspec": {
      "name": "python3",
      "display_name": "Python 3"
    },
    "language_info": {
      "name": "python"
    }
  },
  "cells": [
    {
      "cell_type": "code",
      "source": [
        "pip install scikit-dimension"
      ],
      "metadata": {
        "colab": {
          "base_uri": "https://localhost:8080/"
        },
        "id": "dEDzVI7PKscV",
        "outputId": "1b24e440-90a8-4c93-a183-46522dc601da"
      },
      "execution_count": null,
      "outputs": [
        {
          "output_type": "stream",
          "name": "stdout",
          "text": [
            "Collecting scikit-dimension\n",
            "  Downloading scikit_dimension-0.3.3-py3-none-any.whl (65 kB)\n",
            "\u001b[?25l     \u001b[90m━━━━━━━━━━━━━━━━━━━━━━━━━━━━━━━━━━━━━━━━\u001b[0m \u001b[32m0.0/65.0 kB\u001b[0m \u001b[31m?\u001b[0m eta \u001b[36m-:--:--\u001b[0m\r\u001b[2K     \u001b[90m━━━━━━━━━━━━━━━━━━━━━━━━━━━━━━━━━━━━━━━━\u001b[0m \u001b[32m65.0/65.0 kB\u001b[0m \u001b[31m1.8 MB/s\u001b[0m eta \u001b[36m0:00:00\u001b[0m\n",
            "\u001b[?25hRequirement already satisfied: numpy in /usr/local/lib/python3.10/dist-packages (from scikit-dimension) (1.23.5)\n",
            "Requirement already satisfied: numba in /usr/local/lib/python3.10/dist-packages (from scikit-dimension) (0.58.1)\n",
            "Requirement already satisfied: scipy in /usr/local/lib/python3.10/dist-packages (from scikit-dimension) (1.11.3)\n",
            "Requirement already satisfied: scikit-learn in /usr/local/lib/python3.10/dist-packages (from scikit-dimension) (1.2.2)\n",
            "Requirement already satisfied: llvmlite<0.42,>=0.41.0dev0 in /usr/local/lib/python3.10/dist-packages (from numba->scikit-dimension) (0.41.1)\n",
            "Requirement already satisfied: joblib>=1.1.1 in /usr/local/lib/python3.10/dist-packages (from scikit-learn->scikit-dimension) (1.3.2)\n",
            "Requirement already satisfied: threadpoolctl>=2.0.0 in /usr/local/lib/python3.10/dist-packages (from scikit-learn->scikit-dimension) (3.2.0)\n",
            "Installing collected packages: scikit-dimension\n",
            "Successfully installed scikit-dimension-0.3.3\n"
          ]
        }
      ]
    },
    {
      "cell_type": "code",
      "source": [
        "import os\n",
        "import numpy as np\n",
        "from PIL import Image\n",
        "from skdim.id import DANCo"
      ],
      "metadata": {
        "id": "cQNwOgi6KhkV"
      },
      "execution_count": null,
      "outputs": []
    },
    {
      "cell_type": "code",
      "source": [
        "import os\n",
        "import cv2\n",
        "import numpy as np\n",
        "from skdim.id import MLE\n",
        "from sklearn.preprocessing import StandardScaler\n",
        "\n",
        "# Definindo o caminho para a pasta de imagens\n",
        "image_folder = '/content/drive/MyDrive/chest_xray/train'\n",
        "\n",
        "# Lista para armazenar as imagens\n",
        "images = []\n",
        "\n",
        "# Carregando as imagens\n",
        "for folder in os.listdir(image_folder):\n",
        "    for file in os.listdir(os.path.join(image_folder, folder)):\n",
        "        # Carregando a imagem em escala de cinza\n",
        "        img = cv2.imread(os.path.join(image_folder, folder, file), cv2.IMREAD_GRAYSCALE)\n",
        "        # Redimensionando a imagem para um tamanho fixo (por exemplo, 64x64)\n",
        "        img = cv2.resize(img, (64, 64))\n",
        "        # Achatar a imagem em um vetor unidimensional\n",
        "        img = img.flatten()\n",
        "        # Adicionando a imagem à lista\n",
        "        images.append(img)\n",
        "\n",
        "# Convertendo a lista de imagens em um array numpy\n",
        "X = np.array(images)\n",
        "\n",
        "# Normalizando os dados\n",
        "scaler = StandardScaler()\n",
        "X = scaler.fit_transform(X)\n",
        "\n",
        "# Calculando a dimensão intrínseca\n",
        "id_estimator = MLE()\n",
        "id = id_estimator.fit_transform(X)\n",
        "\n",
        "print('A dimensão intrínseca estimada é:', np.mean(id))\n"
      ],
      "metadata": {
        "colab": {
          "base_uri": "https://localhost:8080/"
        },
        "id": "UzCXJaQ0MwA3",
        "outputId": "e5123643-7882-4a14-ba93-65f341f7d101"
      },
      "execution_count": null,
      "outputs": [
        {
          "output_type": "stream",
          "name": "stdout",
          "text": [
            "A dimensão intrínseca estimada é: 24.112243874537132\n"
          ]
        }
      ]
    },
    {
      "cell_type": "code",
      "source": [
        "dim_estimator = DANCo().fit(X)\n",
        "local_dimension = dim_estimator.dimension_\n",
        "\n",
        "print(f\"A dimensão local estimada é: {local_dimension}\")"
      ],
      "metadata": {
        "colab": {
          "base_uri": "https://localhost:8080/"
        },
        "id": "zCbeEFaVM_e_",
        "outputId": "7b4098cd-a026-41c2-e098-182dd2bc3212"
      },
      "execution_count": null,
      "outputs": [
        {
          "output_type": "stream",
          "name": "stdout",
          "text": [
            "Warning: your data might contain duplicate rows, which can affect results\n",
            "A dimensão local estimada é: nan\n"
          ]
        }
      ]
    },
    {
      "cell_type": "code",
      "source": [
        "import os\n",
        "import numpy as np\n",
        "from sklearn.manifold import Isomap\n",
        "from PIL import Image\n",
        "import time\n",
        "\n",
        "# Função para carregar imagens e convertê-las em vetores\n",
        "def load_images(folder):\n",
        "    images = []\n",
        "    for filename in os.listdir(folder):\n",
        "        img = Image.open(os.path.join(folder, filename)).convert('L') # Convertendo para escala de cinza\n",
        "        img = img.resize((128, 128)) # Redimensionamento para um tamanho padrão\n",
        "        img_array = np.array(img).flatten() # Achatando a imagem em um vetor\n",
        "        images.append(img_array)\n",
        "    return images\n",
        "\n",
        "# Carregar imagens\n",
        "healthy_lungs = load_images('/content/drive/MyDrive/chest_xray/train/NORMAL') # Caminho para imagens de pulmões saudáveis\n",
        "sick_lungs = load_images('/content/drive/MyDrive/chest_xray/train/PNEUMONIA') # Caminho para imagens de pulmões doentes\n",
        "\n",
        "# Combinar os dados\n",
        "X = np.array(healthy_lungs + sick_lungs)"
      ],
      "metadata": {
        "id": "cFSlIvrFhX_3"
      },
      "execution_count": null,
      "outputs": []
    },
    {
      "cell_type": "code",
      "source": [
        "# Aplicar Isomap\n",
        "start_time = time.time()\n",
        "embedding = Isomap(n_neighbors=50, n_components=30)\n",
        "X_transformed = embedding.fit_transform(X)\n",
        "end_time = time.time()\n",
        "\n",
        "print(f\"Isomap execution time: {end_time - start_time} seconds\")\n",
        "print(f\"Number of components after Isomap: {X_transformed.shape[1]}\")\n"
      ],
      "metadata": {
        "colab": {
          "base_uri": "https://localhost:8080/"
        },
        "id": "BUaPyMYnPkLZ",
        "outputId": "b07c60e8-af17-49bd-935d-e8cf90b8c6b9"
      },
      "execution_count": null,
      "outputs": [
        {
          "output_type": "stream",
          "name": "stdout",
          "text": [
            "Isomap execution time: 91.66718101501465 seconds\n",
            "Number of components after Isomap: 30\n"
          ]
        }
      ]
    },
    {
      "cell_type": "code",
      "source": [
        "X.shape"
      ],
      "metadata": {
        "colab": {
          "base_uri": "https://localhost:8080/"
        },
        "id": "gE26rh9NQVpF",
        "outputId": "1accd637-aca7-49d1-d8b0-a9088fe2a93d"
      },
      "execution_count": null,
      "outputs": [
        {
          "output_type": "execute_result",
          "data": {
            "text/plain": [
              "(5223, 16384)"
            ]
          },
          "metadata": {},
          "execution_count": 17
        }
      ]
    },
    {
      "cell_type": "code",
      "source": [
        "X_transformed"
      ],
      "metadata": {
        "colab": {
          "base_uri": "https://localhost:8080/"
        },
        "id": "m3MsTTKaQXDN",
        "outputId": "623f8563-47b9-423f-d2a9-bf13a50afe10"
      },
      "execution_count": null,
      "outputs": [
        {
          "output_type": "execute_result",
          "data": {
            "text/plain": [
              "array([[ 4415.51798528,  -833.23636618,  3948.68688556, ...,\n",
              "         -300.35278365,   338.52544085,  -668.21410158],\n",
              "       [ 3238.16041527,   185.6593215 ,  3850.47935659, ...,\n",
              "         -979.15836554,  -545.53376226,   318.32764092],\n",
              "       [ 4306.58190909,  3458.26096376,  -972.68044462, ...,\n",
              "        -1312.09251498,  1572.32101681,   644.17633764],\n",
              "       ...,\n",
              "       [-3820.54487643,  1626.68618983, -5754.89051708, ...,\n",
              "         -574.67466373,  -646.67653393,  -595.07661587],\n",
              "       [-2791.02399917, -2669.75692663,  -404.25557641, ...,\n",
              "         -751.85175165,   169.49485495,  1026.14895981],\n",
              "       [  249.73566912, -2730.60109557, -3584.37666882, ...,\n",
              "          262.00541378,  1291.17994814,   515.23499747]])"
            ]
          },
          "metadata": {},
          "execution_count": 18
        }
      ]
    },
    {
      "cell_type": "code",
      "source": [
        "from sklearn.manifold import Isomap\n",
        "from scipy.spatial.distance import pdist, squareform\n",
        "from scipy.stats import spearmanr\n",
        "import numpy as np\n",
        "\n",
        "# Calculando as distâncias no conjunto de dados original\n",
        "original_distances = squareform(pdist(X, 'euclidean'))\n",
        "\n",
        "# Calculando as distâncias no conjunto de dados transformado\n",
        "transformed_distances = squareform(pdist(X_transformed, 'euclidean'))\n",
        "\n",
        "# Calculando o coeficiente de correlação de Spearman\n",
        "correlation, _ = spearmanr(original_distances.flatten(), transformed_distances.flatten())\n",
        "\n",
        "print(f\"Correlação de Spearman entre as distâncias originais e transformadas: {correlation}\")"
      ],
      "metadata": {
        "colab": {
          "base_uri": "https://localhost:8080/"
        },
        "id": "evGeKTKbStlY",
        "outputId": "ea4ba6e7-b7fc-4df8-d33d-47799ed74ba1"
      },
      "execution_count": null,
      "outputs": [
        {
          "output_type": "stream",
          "name": "stdout",
          "text": [
            "Correlação de Spearman entre as distâncias originais e transformadas: 0.8963049950676522\n"
          ]
        }
      ]
    },
    {
      "cell_type": "code",
      "source": [
        "from sklearn.manifold import TSNE\n",
        "import time\n",
        "\n",
        "start_time = time.time()\n",
        "X_embedded = TSNE(n_components=3, perplexity=50, learning_rate=200).fit_transform(X)\n",
        "end_time = time.time()\n",
        "\n",
        "print(f\"t-SNE execution time: {end_time - start_time} seconds\")\n",
        "print(f\"Number of components after t-SNE: {X_embedded.shape[1]}\")\n"
      ],
      "metadata": {
        "colab": {
          "base_uri": "https://localhost:8080/"
        },
        "id": "bro_PiyU2Qul",
        "outputId": "4c14715e-9597-40c4-8387-e5058809d5b4"
      },
      "execution_count": null,
      "outputs": [
        {
          "output_type": "stream",
          "name": "stdout",
          "text": [
            "t-SNE execution time: 323.61122369766235 seconds\n",
            "Number of components after t-SNE: 3\n"
          ]
        }
      ]
    },
    {
      "cell_type": "markdown",
      "source": [
        "Limite maximo de componentes que esse metodo aceita é 3, é frequentemente usado para visualização e por isso comumente limitado a 2 ou 3 dimensões.\n"
      ],
      "metadata": {
        "id": "GerMc9i3b05e"
      }
    },
    {
      "cell_type": "code",
      "source": [
        "# Calculando as distâncias no conjunto de dados original\n",
        "original_distances = squareform(pdist(X, 'euclidean'))\n",
        "\n",
        "# Calculando as distâncias no conjunto de dados transformado pelo t-SNE\n",
        "transformed_distances_tsne = squareform(pdist(X_embedded, 'euclidean'))\n",
        "\n",
        "# Calculando o coeficiente de correlação de Spearman\n",
        "correlation_tsne, _ = spearmanr(original_distances.flatten(), transformed_distances_tsne.flatten())\n",
        "\n",
        "print(f\"Correlação de Spearman entre as distâncias originais e transformadas pelo t-SNE: {correlation_tsne}\")"
      ],
      "metadata": {
        "colab": {
          "base_uri": "https://localhost:8080/"
        },
        "id": "s-OvraTGXLK7",
        "outputId": "66de0498-1ab0-4c43-ea14-6f6c1eef3bd4"
      },
      "execution_count": null,
      "outputs": [
        {
          "output_type": "stream",
          "name": "stdout",
          "text": [
            "Correlação de Spearman entre as distâncias originais e transformadas pelo t-SNE: 0.6126573287088546\n"
          ]
        }
      ]
    },
    {
      "cell_type": "code",
      "source": [
        "from sklearn.manifold import LocallyLinearEmbedding\n",
        "import time\n",
        "\n",
        "start_time = time.time()\n",
        "embedding = LocallyLinearEmbedding(n_neighbors=50, n_components=30)\n",
        "X_transformed = embedding.fit_transform(X)\n",
        "end_time = time.time()\n",
        "\n",
        "print(f\"LLE execution time: {end_time - start_time} seconds\")\n",
        "print(f\"Number of components after LLE: {X_transformed.shape[1]}\")"
      ],
      "metadata": {
        "colab": {
          "base_uri": "https://localhost:8080/"
        },
        "id": "6nG3NXjB2R2h",
        "outputId": "98f00811-4b3e-4ea5-cb26-4a1a0078d059"
      },
      "execution_count": null,
      "outputs": [
        {
          "output_type": "stream",
          "name": "stdout",
          "text": [
            "LLE execution time: 105.0662910938263 seconds\n",
            "Number of components after LLE: 30\n"
          ]
        }
      ]
    },
    {
      "cell_type": "markdown",
      "source": [
        "é importante notar que este método avalia especificamente a preservação das distâncias euclidianas, o que pode ou não refletir completamente a \"informação\" contida nos dados, especialmente para métodos não-lineares de redução de dimensionalidade como o LLE. O LLE foca em preservar relações locais lineares, então a correlação das distâncias euclidianas globais pode não capturar totalmente a eficácia do LLE."
      ],
      "metadata": {
        "id": "hrWMLHFfct5M"
      }
    },
    {
      "cell_type": "code",
      "source": [
        "from scipy.spatial.distance import pdist, squareform\n",
        "from scipy.stats import spearmanr\n",
        "import numpy as np\n",
        "\n",
        "# Suponha que X é o seu conjunto de dados original e X_transformed é o resultado do LLE\n",
        "\n",
        "# Calculando as distâncias no conjunto de dados original\n",
        "original_distances = squareform(pdist(X, 'euclidean'))\n",
        "\n",
        "# Calculando as distâncias no conjunto de dados transformado pelo LLE\n",
        "transformed_distances_lle = squareform(pdist(X_transformed, 'euclidean'))\n",
        "\n",
        "# Calculando o coeficiente de correlação de Spearman\n",
        "correlation_lle, _ = spearmanr(original_distances.flatten(), transformed_distances_lle.flatten())\n",
        "\n",
        "print(f\"Correlação de Spearman entre as distâncias originais e transformadas pelo LLE: {correlation_lle}\")\n"
      ],
      "metadata": {
        "colab": {
          "base_uri": "https://localhost:8080/"
        },
        "id": "FWVpI4Ndcw9x",
        "outputId": "bd499faf-3313-43e9-d4a3-77341058f392"
      },
      "execution_count": null,
      "outputs": [
        {
          "output_type": "stream",
          "name": "stdout",
          "text": [
            "Correlação de Spearman entre as distâncias originais e transformadas pelo LLE: 0.5783952944726024\n"
          ]
        }
      ]
    },
    {
      "cell_type": "code",
      "source": [
        "!pip install umap-learn"
      ],
      "metadata": {
        "colab": {
          "base_uri": "https://localhost:8080/",
          "height": 529
        },
        "id": "9ZJiEAkQfjQI",
        "outputId": "63796c96-0c46-4ec9-a539-69e1292e55e5"
      },
      "execution_count": null,
      "outputs": [
        {
          "output_type": "stream",
          "name": "stdout",
          "text": [
            "Collecting umap-learn\n",
            "  Downloading umap-learn-0.5.5.tar.gz (90 kB)\n",
            "\u001b[2K     \u001b[90m━━━━━━━━━━━━━━━━━━━━━━━━━━━━━━━━━━━━━━━━\u001b[0m \u001b[32m90.9/90.9 kB\u001b[0m \u001b[31m1.9 MB/s\u001b[0m eta \u001b[36m0:00:00\u001b[0m\n",
            "\u001b[?25h  Preparing metadata (setup.py) ... \u001b[?25l\u001b[?25hdone\n",
            "Requirement already satisfied: numpy>=1.17 in /usr/local/lib/python3.10/dist-packages (from umap-learn) (1.23.5)\n",
            "Requirement already satisfied: scipy>=1.3.1 in /usr/local/lib/python3.10/dist-packages (from umap-learn) (1.11.3)\n",
            "Requirement already satisfied: scikit-learn>=0.22 in /usr/local/lib/python3.10/dist-packages (from umap-learn) (1.2.2)\n",
            "Requirement already satisfied: numba>=0.51.2 in /usr/local/lib/python3.10/dist-packages (from umap-learn) (0.58.1)\n",
            "Collecting pynndescent>=0.5 (from umap-learn)\n",
            "  Downloading pynndescent-0.5.11-py3-none-any.whl (55 kB)\n",
            "\u001b[2K     \u001b[90m━━━━━━━━━━━━━━━━━━━━━━━━━━━━━━━━━━━━━━━━\u001b[0m \u001b[32m55.8/55.8 kB\u001b[0m \u001b[31m6.2 MB/s\u001b[0m eta \u001b[36m0:00:00\u001b[0m\n",
            "\u001b[?25hRequirement already satisfied: tqdm in /usr/local/lib/python3.10/dist-packages (from umap-learn) (4.66.1)\n",
            "Requirement already satisfied: llvmlite<0.42,>=0.41.0dev0 in /usr/local/lib/python3.10/dist-packages (from numba>=0.51.2->umap-learn) (0.41.1)\n",
            "Requirement already satisfied: joblib>=0.11 in /usr/local/lib/python3.10/dist-packages (from pynndescent>=0.5->umap-learn) (1.3.2)\n",
            "Requirement already satisfied: threadpoolctl>=2.0.0 in /usr/local/lib/python3.10/dist-packages (from scikit-learn>=0.22->umap-learn) (3.2.0)\n",
            "Building wheels for collected packages: umap-learn\n",
            "  Building wheel for umap-learn (setup.py) ... \u001b[?25l\u001b[?25hdone\n",
            "  Created wheel for umap-learn: filename=umap_learn-0.5.5-py3-none-any.whl size=86831 sha256=ae3cd0d0d4a7774e79db88ef457e6d049c68ae04e8c1c867a45fa75e6392572a\n",
            "  Stored in directory: /root/.cache/pip/wheels/3a/70/07/428d2b58660a1a3b431db59b806a10da736612ebbc66c1bcc5\n",
            "Successfully built umap-learn\n",
            "Installing collected packages: pynndescent, umap-learn\n",
            "Successfully installed pynndescent-0.5.11 umap-learn-0.5.5\n"
          ]
        },
        {
          "output_type": "display_data",
          "data": {
            "application/vnd.colab-display-data+json": {
              "pip_warning": {
                "packages": [
                  "umap"
                ]
              }
            }
          },
          "metadata": {}
        }
      ]
    },
    {
      "cell_type": "code",
      "source": [
        "import umap.umap_ as umap\n",
        "import time\n",
        "\n",
        "start_time = time.time()\n",
        "reducer = umap.UMAP(n_neighbors = 30,  # Valor entre 15 a 50\n",
        "min_dist = 0.3,   # Valor entre 0.1 a 0.5\n",
        "n_components = 30,  # Geralmente 2 ou 3 para visualização\n",
        "learning_rate = 100,   # Valor entre 1 a 200\n",
        "spread = 1.0   )\n",
        "X_transformed = reducer.fit_transform(X)\n",
        "end_time = time.time()\n",
        "\n",
        "print(f\"UMAP execution time: {end_time - start_time} seconds\")\n",
        "print(f\"Number of components after UMAP: {X_transformed.shape[1]}\")"
      ],
      "metadata": {
        "colab": {
          "base_uri": "https://localhost:8080/"
        },
        "id": "By6WNEMG2S-V",
        "outputId": "2b7e0e75-ebdc-4f2c-86c1-7d6ed16dbaa7"
      },
      "execution_count": null,
      "outputs": [
        {
          "output_type": "stream",
          "name": "stdout",
          "text": [
            "UMAP execution time: 128.1242949962616 seconds\n",
            "Number of components after UMAP: 30\n"
          ]
        }
      ]
    },
    {
      "cell_type": "code",
      "source": [
        "from sklearn.manifold import Isomap\n",
        "from scipy.spatial.distance import pdist, squareform\n",
        "from scipy.stats import spearmanr\n",
        "import numpy as np\n",
        "\n",
        "# Calculando as distâncias no conjunto de dados original\n",
        "original_distances = squareform(pdist(X, 'euclidean'))\n",
        "\n",
        "# Calculando as distâncias no conjunto de dados transformado\n",
        "transformed_distances = squareform(pdist(X_transformed, 'euclidean'))\n",
        "\n",
        "# Calculando o coeficiente de correlação de Spearman\n",
        "correlation, _ = spearmanr(original_distances.flatten(), transformed_distances.flatten())\n",
        "\n",
        "print(f\"Correlação de Spearman entre as distâncias originais e transformadas: {correlation}\")"
      ],
      "metadata": {
        "colab": {
          "base_uri": "https://localhost:8080/"
        },
        "id": "7oAK2wyVhuHA",
        "outputId": "5b122341-b9e0-4c1b-b2d7-56e2b87e717b"
      },
      "execution_count": null,
      "outputs": [
        {
          "output_type": "stream",
          "name": "stdout",
          "text": [
            "Correlação de Spearman entre as distâncias originais e transformadas: 0.6298226995308446\n"
          ]
        }
      ]
    },
    {
      "cell_type": "code",
      "source": [
        "from sklearn.manifold import LocallyLinearEmbedding\n",
        "import time\n",
        "\n",
        "start_time = time.time()\n",
        "embedding = LocallyLinearEmbedding(n_neighbors=496, n_components=30, method='hessian')\n",
        "X_transformed = embedding.fit_transform(X)\n",
        "end_time = time.time()\n",
        "\n",
        "print(f\"Hessian LLE execution time: {end_time - start_time} seconds\")\n",
        "print(f\"Number of components after Hessian LLE: {X_transformed.shape[1]}\")"
      ],
      "metadata": {
        "colab": {
          "base_uri": "https://localhost:8080/"
        },
        "id": "nm6VToGk2U32",
        "outputId": "72a9fef6-3d64-4ae8-f449-a96a517bcffe"
      },
      "execution_count": null,
      "outputs": [
        {
          "output_type": "stream",
          "name": "stdout",
          "text": [
            "Hessian LLE execution time: 2657.209179878235 seconds\n",
            "Number of components after Hessian LLE: 30\n"
          ]
        }
      ]
    },
    {
      "cell_type": "code",
      "source": [
        "from scipy.spatial.distance import pdist, squareform\n",
        "from scipy.stats import spearmanr\n",
        "import numpy as np\n",
        "\n",
        "# Suponha que X é o seu conjunto de dados original e X_transformed é o resultado do LLE\n",
        "\n",
        "# Calculando as distâncias no conjunto de dados original\n",
        "original_distances = squareform(pdist(X, 'euclidean'))\n",
        "\n",
        "# Calculando as distâncias no conjunto de dados transformado pelo LLE\n",
        "transformed_distances_lle = squareform(pdist(X_transformed, 'euclidean'))\n",
        "\n",
        "# Calculando o coeficiente de correlação de Spearman\n",
        "correlation_lle, _ = spearmanr(original_distances.flatten(), transformed_distances_lle.flatten())\n",
        "\n",
        "print(f\"Correlação de Spearman entre as distâncias originais e transformadas pelo LLE Hessian: {correlation_lle}\")"
      ],
      "metadata": {
        "colab": {
          "base_uri": "https://localhost:8080/"
        },
        "id": "NBzTMkQjj0_K",
        "outputId": "3063465d-159e-4d9b-e1f0-0e45ed1cb1a4"
      },
      "execution_count": null,
      "outputs": [
        {
          "output_type": "stream",
          "name": "stdout",
          "text": [
            "Correlação de Spearman entre as distâncias originais e transformadas pelo LLE Hessian: 0.7430580901205778\n"
          ]
        }
      ]
    },
    {
      "cell_type": "code",
      "source": [],
      "metadata": {
        "id": "zv2qYK9So6oA"
      },
      "execution_count": null,
      "outputs": []
    }
  ]
}